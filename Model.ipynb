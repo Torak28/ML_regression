{
 "cells": [
  {
   "cell_type": "markdown",
   "metadata": {},
   "source": [
    "# Przygotowanie Danych"
   ]
  },
  {
   "cell_type": "code",
   "execution_count": 1,
   "metadata": {},
   "outputs": [],
   "source": [
    "import numpy as np\n",
    "import pandas as pd\n",
    "import matplotlib.pyplot as plt\n",
    "import seaborn as sns"
   ]
  },
  {
   "cell_type": "code",
   "execution_count": 2,
   "metadata": {},
   "outputs": [],
   "source": [
    "datContent = pd.read_csv(\"grafana_data_export.csv\", delimiter=';')"
   ]
  },
  {
   "cell_type": "code",
   "execution_count": 3,
   "metadata": {},
   "outputs": [
    {
     "data": {
      "text/html": [
       "<div>\n",
       "<style scoped>\n",
       "    .dataframe tbody tr th:only-of-type {\n",
       "        vertical-align: middle;\n",
       "    }\n",
       "\n",
       "    .dataframe tbody tr th {\n",
       "        vertical-align: top;\n",
       "    }\n",
       "\n",
       "    .dataframe thead th {\n",
       "        text-align: right;\n",
       "    }\n",
       "</style>\n",
       "<table border=\"1\" class=\"dataframe\">\n",
       "  <thead>\n",
       "    <tr style=\"text-align: right;\">\n",
       "      <th></th>\n",
       "      <th>Series</th>\n",
       "      <th>Time</th>\n",
       "      <th>Value</th>\n",
       "    </tr>\n",
       "  </thead>\n",
       "  <tbody>\n",
       "    <tr>\n",
       "      <th>0</th>\n",
       "      <td>clab2189node18</td>\n",
       "      <td>2020-06-15T21:00:00+02:00</td>\n",
       "      <td>13.470261</td>\n",
       "    </tr>\n",
       "    <tr>\n",
       "      <th>1</th>\n",
       "      <td>clab2189node18</td>\n",
       "      <td>2020-06-15T21:20:00+02:00</td>\n",
       "      <td>14.522368</td>\n",
       "    </tr>\n",
       "    <tr>\n",
       "      <th>2</th>\n",
       "      <td>clab2189node18</td>\n",
       "      <td>2020-06-15T21:40:00+02:00</td>\n",
       "      <td>15.279718</td>\n",
       "    </tr>\n",
       "    <tr>\n",
       "      <th>3</th>\n",
       "      <td>clab2189node18</td>\n",
       "      <td>2020-06-15T22:00:00+02:00</td>\n",
       "      <td>14.351735</td>\n",
       "    </tr>\n",
       "    <tr>\n",
       "      <th>4</th>\n",
       "      <td>clab2189node18</td>\n",
       "      <td>2020-06-15T22:20:00+02:00</td>\n",
       "      <td>20.885126</td>\n",
       "    </tr>\n",
       "  </tbody>\n",
       "</table>\n",
       "</div>"
      ],
      "text/plain": [
       "           Series                       Time      Value\n",
       "0  clab2189node18  2020-06-15T21:00:00+02:00  13.470261\n",
       "1  clab2189node18  2020-06-15T21:20:00+02:00  14.522368\n",
       "2  clab2189node18  2020-06-15T21:40:00+02:00  15.279718\n",
       "3  clab2189node18  2020-06-15T22:00:00+02:00  14.351735\n",
       "4  clab2189node18  2020-06-15T22:20:00+02:00  20.885126"
      ]
     },
     "execution_count": 3,
     "metadata": {},
     "output_type": "execute_result"
    }
   ],
   "source": [
    "datContent.head()"
   ]
  },
  {
   "cell_type": "code",
   "execution_count": 4,
   "metadata": {},
   "outputs": [
    {
     "data": {
      "text/plain": [
       "array(['clab2189node18', 'clab2189node19', 'clab2189node20',\n",
       "       'clab2189node21'], dtype=object)"
      ]
     },
     "execution_count": 4,
     "metadata": {},
     "output_type": "execute_result"
    }
   ],
   "source": [
    "datContent.Series.unique()"
   ]
  },
  {
   "cell_type": "code",
   "execution_count": 5,
   "metadata": {},
   "outputs": [
    {
     "data": {
      "text/plain": [
       "(2020, 3)"
      ]
     },
     "execution_count": 5,
     "metadata": {},
     "output_type": "execute_result"
    }
   ],
   "source": [
    "datContent.shape"
   ]
  },
  {
   "cell_type": "code",
   "execution_count": 6,
   "metadata": {},
   "outputs": [
    {
     "data": {
      "text/plain": [
       "Series    2020\n",
       "Time      2020\n",
       "Value     2020\n",
       "dtype: int64"
      ]
     },
     "execution_count": 6,
     "metadata": {},
     "output_type": "execute_result"
    }
   ],
   "source": [
    "datContent.count()"
   ]
  },
  {
   "cell_type": "code",
   "execution_count": 7,
   "metadata": {},
   "outputs": [
    {
     "data": {
      "text/plain": [
       "False"
      ]
     },
     "execution_count": 7,
     "metadata": {},
     "output_type": "execute_result"
    }
   ],
   "source": [
    "pd.Series(datContent['Time']).is_unique"
   ]
  },
  {
   "cell_type": "code",
   "execution_count": 8,
   "metadata": {},
   "outputs": [
    {
     "name": "stdout",
     "output_type": "stream",
     "text": [
      "clab2189node18 2020-06-15T21:00:00+02:00\n",
      "clab2189node18 2020-06-22T21:00:00+02:00\n",
      "---\n",
      "clab2189node19 2020-06-15T21:00:00+02:00\n",
      "clab2189node19 2020-06-22T21:00:00+02:00\n",
      "---\n",
      "clab2189node20 2020-06-15T21:00:00+02:00\n",
      "clab2189node20 2020-06-22T21:00:00+02:00\n",
      "---\n",
      "clab2189node21 2020-06-15T21:00:00+02:00\n",
      "clab2189node21 2020-06-22T21:00:00+02:00\n"
     ]
    }
   ],
   "source": [
    "print(datContent['Series'][0], datContent['Time'][0])\n",
    "print(datContent['Series'][504], datContent['Time'][504])\n",
    "\n",
    "print('---')\n",
    "\n",
    "print(datContent['Series'][505], datContent['Time'][505])\n",
    "print(datContent['Series'][1009], datContent['Time'][1009])\n",
    "\n",
    "print('---')\n",
    "\n",
    "print(datContent['Series'][1010], datContent['Time'][1010])\n",
    "print(datContent['Series'][1514], datContent['Time'][1514])\n",
    "\n",
    "print('---')\n",
    "\n",
    "print(datContent['Series'][1515], datContent['Time'][1515])\n",
    "print(datContent['Series'][2019], datContent['Time'][2019])"
   ]
  },
  {
   "cell_type": "code",
   "execution_count": 12,
   "metadata": {},
   "outputs": [],
   "source": [
    "d = {\n",
    "    'Time': datContent['Time'][0:504].reset_index(drop=True),\n",
    "    'Value_clab2189node18 ': datContent['Value'][0:504].reset_index(drop=True),\n",
    "    'Value_clab2189node19 ': datContent['Value'][505:1009].reset_index(drop=True),\n",
    "    'Value_clab2189node20 ': datContent['Value'][1010:1514].reset_index(drop=True),\n",
    "    'Value_clab2189node21 ': datContent['Value'][1515:2019].reset_index(drop=True)\n",
    "}\n",
    "\n",
    "\n",
    "data = pd.DataFrame(d)"
   ]
  },
  {
   "cell_type": "code",
   "execution_count": 13,
   "metadata": {},
   "outputs": [
    {
     "data": {
      "text/html": [
       "<div>\n",
       "<style scoped>\n",
       "    .dataframe tbody tr th:only-of-type {\n",
       "        vertical-align: middle;\n",
       "    }\n",
       "\n",
       "    .dataframe tbody tr th {\n",
       "        vertical-align: top;\n",
       "    }\n",
       "\n",
       "    .dataframe thead th {\n",
       "        text-align: right;\n",
       "    }\n",
       "</style>\n",
       "<table border=\"1\" class=\"dataframe\">\n",
       "  <thead>\n",
       "    <tr style=\"text-align: right;\">\n",
       "      <th></th>\n",
       "      <th>Time</th>\n",
       "      <th>Value_clab2189node18</th>\n",
       "      <th>Value_clab2189node19</th>\n",
       "      <th>Value_clab2189node20</th>\n",
       "      <th>Value_clab2189node21</th>\n",
       "    </tr>\n",
       "  </thead>\n",
       "  <tbody>\n",
       "    <tr>\n",
       "      <th>0</th>\n",
       "      <td>2020-06-15T21:00:00+02:00</td>\n",
       "      <td>13.470261</td>\n",
       "      <td>12.497104</td>\n",
       "      <td>12.307692</td>\n",
       "      <td>11.789692</td>\n",
       "    </tr>\n",
       "    <tr>\n",
       "      <th>1</th>\n",
       "      <td>2020-06-15T21:20:00+02:00</td>\n",
       "      <td>14.522368</td>\n",
       "      <td>13.422947</td>\n",
       "      <td>12.191719</td>\n",
       "      <td>14.515398</td>\n",
       "    </tr>\n",
       "    <tr>\n",
       "      <th>2</th>\n",
       "      <td>2020-06-15T21:40:00+02:00</td>\n",
       "      <td>15.279718</td>\n",
       "      <td>13.696577</td>\n",
       "      <td>11.852457</td>\n",
       "      <td>15.019536</td>\n",
       "    </tr>\n",
       "    <tr>\n",
       "      <th>3</th>\n",
       "      <td>2020-06-15T22:00:00+02:00</td>\n",
       "      <td>14.351735</td>\n",
       "      <td>12.411655</td>\n",
       "      <td>11.235736</td>\n",
       "      <td>15.275737</td>\n",
       "    </tr>\n",
       "    <tr>\n",
       "      <th>4</th>\n",
       "      <td>2020-06-15T22:20:00+02:00</td>\n",
       "      <td>20.885126</td>\n",
       "      <td>17.919341</td>\n",
       "      <td>16.487906</td>\n",
       "      <td>19.697467</td>\n",
       "    </tr>\n",
       "  </tbody>\n",
       "</table>\n",
       "</div>"
      ],
      "text/plain": [
       "                        Time  Value_clab2189node18   Value_clab2189node19   \\\n",
       "0  2020-06-15T21:00:00+02:00              13.470261              12.497104   \n",
       "1  2020-06-15T21:20:00+02:00              14.522368              13.422947   \n",
       "2  2020-06-15T21:40:00+02:00              15.279718              13.696577   \n",
       "3  2020-06-15T22:00:00+02:00              14.351735              12.411655   \n",
       "4  2020-06-15T22:20:00+02:00              20.885126              17.919341   \n",
       "\n",
       "   Value_clab2189node20   Value_clab2189node21   \n",
       "0              12.307692              11.789692  \n",
       "1              12.191719              14.515398  \n",
       "2              11.852457              15.019536  \n",
       "3              11.235736              15.275737  \n",
       "4              16.487906              19.697467  "
      ]
     },
     "execution_count": 13,
     "metadata": {},
     "output_type": "execute_result"
    }
   ],
   "source": [
    "data.head()"
   ]
  },
  {
   "cell_type": "markdown",
   "metadata": {},
   "source": [
    "# Model regresji"
   ]
  },
  {
   "cell_type": "code",
   "execution_count": null,
   "metadata": {},
   "outputs": [],
   "source": []
  }
 ],
 "metadata": {
  "kernelspec": {
   "display_name": "Python 3",
   "language": "python",
   "name": "python3"
  },
  "language_info": {
   "codemirror_mode": {
    "name": "ipython",
    "version": 3
   },
   "file_extension": ".py",
   "mimetype": "text/x-python",
   "name": "python",
   "nbconvert_exporter": "python",
   "pygments_lexer": "ipython3",
   "version": "3.7.4"
  }
 },
 "nbformat": 4,
 "nbformat_minor": 2
}
